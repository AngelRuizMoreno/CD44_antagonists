{
 "cells": [
  {
   "cell_type": "code",
   "execution_count": 1,
   "metadata": {},
   "outputs": [],
   "source": [
    "import re\n",
    "import os\n",
    "import glob\n",
    "import linecache\n",
    "import itertools\n",
    "import shutil\n",
    "from pprint import pprint\n",
    "import itertools\n",
    "\n",
    "import pandas as pd\n",
    "import matplotlib as mt\n",
    "from matplotlib import pyplot as plt\n",
    "from matplotlib import pylab as pl\n",
    "import matplotlib.gridspec as gridspec\n",
    "import numpy as np\n",
    "import scipy.stats as stats\n",
    "\n",
    "from rdkit import Chem\n",
    "import rdkit.Chem.Recap as Recap\n",
    "from rdkit.Chem import AllChem\n",
    "\n",
    "import mmtf\n",
    "\n",
    "from Bio import pairwise2\n",
    "from Bio.pairwise2 import format_alignment\n",
    "import itertools"
   ]
  },
  {
   "cell_type": "code",
   "execution_count": 2,
   "metadata": {},
   "outputs": [],
   "source": [
    "files='../CD44_crystal_structures/Crystals/'"
   ]
  },
  {
   "cell_type": "code",
   "execution_count": 3,
   "metadata": {},
   "outputs": [],
   "source": [
    "structures=[]\n",
    "for file in os.listdir(files):\n",
    "    if '.pdb' in file:\n",
    "        structures.append (file.split('_')[0])"
   ]
  },
  {
   "cell_type": "code",
   "execution_count": 4,
   "metadata": {},
   "outputs": [],
   "source": [
    "unq=list(set(structures))"
   ]
  },
  {
   "cell_type": "code",
   "execution_count": 5,
   "metadata": {},
   "outputs": [],
   "source": [
    "human=['1uuh','4pz3','4pz4']"
   ]
  },
  {
   "cell_type": "code",
   "execution_count": 6,
   "metadata": {},
   "outputs": [],
   "source": [
    "new=list(set(unq)-set(human))"
   ]
  },
  {
   "cell_type": "code",
   "execution_count": 7,
   "metadata": {},
   "outputs": [],
   "source": [
    "new_order=human+sorted(new)"
   ]
  },
  {
   "cell_type": "code",
   "execution_count": 8,
   "metadata": {},
   "outputs": [],
   "source": [
    "targets=pd.DataFrame()\n",
    "pdb_id=[]\n",
    "title=[]\n",
    "classification=[]\n",
    "sequence=[]\n",
    "method=[]\n",
    "resolution=[]\n",
    "date=[]\n",
    "for pdb_code in new_order:\n",
    "    data=mmtf.fetch (pdb_code)\n",
    "    pdb_id.append (data.structure_id)\n",
    "    title.append (data.title)\n",
    "    classification.append (data.entity_list[0]['description'])\n",
    "    sequence.append (data.entity_list[0]['sequence'])\n",
    "    method.append (data.experimental_methods[0])\n",
    "    resolution.append (data.resolution)\n",
    "    date.append (data.release_date)\n",
    "\n",
    "targets['PDB_id'] = pd.Series(pdb_id)\n",
    "targets['Classification'] = pd.Series(classification)\n",
    "targets['Title'] = pd.Series(title)\n",
    "targets['Sequence'] = pd.Series(sequence)\n",
    "targets['Method'] = pd.Series(method)\n",
    "targets['Resolution'] = pd.Series(resolution)\n",
    "targets['Release_date'] = pd.Series(date)\n",
    "o=[x.lower() for x in targets['Classification']]\n",
    "targets['Classification']=pd.Series(o,targets.index)"
   ]
  },
  {
   "cell_type": "code",
   "execution_count": 9,
   "metadata": {},
   "outputs": [
    {
     "data": {
      "text/html": [
       "<div>\n",
       "<style scoped>\n",
       "    .dataframe tbody tr th:only-of-type {\n",
       "        vertical-align: middle;\n",
       "    }\n",
       "\n",
       "    .dataframe tbody tr th {\n",
       "        vertical-align: top;\n",
       "    }\n",
       "\n",
       "    .dataframe thead th {\n",
       "        text-align: right;\n",
       "    }\n",
       "</style>\n",
       "<table border=\"1\" class=\"dataframe\">\n",
       "  <thead>\n",
       "    <tr style=\"text-align: right;\">\n",
       "      <th></th>\n",
       "      <th>PDB_id</th>\n",
       "      <th>Classification</th>\n",
       "      <th>Title</th>\n",
       "      <th>Sequence</th>\n",
       "      <th>Method</th>\n",
       "      <th>Resolution</th>\n",
       "      <th>Release_date</th>\n",
       "    </tr>\n",
       "  </thead>\n",
       "  <tbody>\n",
       "    <tr>\n",
       "      <td>0</td>\n",
       "      <td>1UUH</td>\n",
       "      <td>cd44 antigen</td>\n",
       "      <td>Hyaluronan binding domain of human CD44</td>\n",
       "      <td>AQIDLNITCRFAGVFHVEKNGRYSISRTEAADLCKAFNSTLPTMAQ...</td>\n",
       "      <td>X-RAY DIFFRACTION</td>\n",
       "      <td>2.200</td>\n",
       "      <td>2004-03-04</td>\n",
       "    </tr>\n",
       "    <tr>\n",
       "      <td>1</td>\n",
       "      <td>4PZ3</td>\n",
       "      <td>cd44 antigen</td>\n",
       "      <td>High-resolution crystal structure of the human...</td>\n",
       "      <td>AMAQIDLNITCRFAGVFHVEKNGRYSISRTEAADLCKAFNSTLPTM...</td>\n",
       "      <td>X-RAY DIFFRACTION</td>\n",
       "      <td>1.083</td>\n",
       "      <td>2014-09-17</td>\n",
       "    </tr>\n",
       "    <tr>\n",
       "      <td>2</td>\n",
       "      <td>4PZ4</td>\n",
       "      <td>cd44 antigen</td>\n",
       "      <td>High-resolution crystal structure of the human...</td>\n",
       "      <td>AMAQIDLNITCRFAGVFHVEKNGRYSISRTEAADLCKAFNSTLPTM...</td>\n",
       "      <td>X-RAY DIFFRACTION</td>\n",
       "      <td>1.600</td>\n",
       "      <td>2014-09-17</td>\n",
       "    </tr>\n",
       "    <tr>\n",
       "      <td>3</td>\n",
       "      <td>2JCP</td>\n",
       "      <td>cd44 antigen</td>\n",
       "      <td>The hyaluronan binding domain of murine CD44</td>\n",
       "      <td>MQQIDLNVTCRYAGVFHVEKNGRYSISRTEAADLCQAFNSTLPTMD...</td>\n",
       "      <td>X-RAY DIFFRACTION</td>\n",
       "      <td>1.300</td>\n",
       "      <td>2007-01-30</td>\n",
       "    </tr>\n",
       "    <tr>\n",
       "      <td>4</td>\n",
       "      <td>2JCQ</td>\n",
       "      <td>cd44 antigen</td>\n",
       "      <td>The hyaluronan binding domain of murine CD44 i...</td>\n",
       "      <td>MNQIDLNVTCRYAGVFHVEKNGRYSISRTEAADLCQAFNSTLPTMD...</td>\n",
       "      <td>X-RAY DIFFRACTION</td>\n",
       "      <td>1.250</td>\n",
       "      <td>2007-01-30</td>\n",
       "    </tr>\n",
       "  </tbody>\n",
       "</table>\n",
       "</div>"
      ],
      "text/plain": [
       "  PDB_id Classification                                              Title  \\\n",
       "0   1UUH   cd44 antigen            Hyaluronan binding domain of human CD44   \n",
       "1   4PZ3   cd44 antigen  High-resolution crystal structure of the human...   \n",
       "2   4PZ4   cd44 antigen  High-resolution crystal structure of the human...   \n",
       "3   2JCP   cd44 antigen       The hyaluronan binding domain of murine CD44   \n",
       "4   2JCQ   cd44 antigen  The hyaluronan binding domain of murine CD44 i...   \n",
       "\n",
       "                                            Sequence             Method  \\\n",
       "0  AQIDLNITCRFAGVFHVEKNGRYSISRTEAADLCKAFNSTLPTMAQ...  X-RAY DIFFRACTION   \n",
       "1  AMAQIDLNITCRFAGVFHVEKNGRYSISRTEAADLCKAFNSTLPTM...  X-RAY DIFFRACTION   \n",
       "2  AMAQIDLNITCRFAGVFHVEKNGRYSISRTEAADLCKAFNSTLPTM...  X-RAY DIFFRACTION   \n",
       "3  MQQIDLNVTCRYAGVFHVEKNGRYSISRTEAADLCQAFNSTLPTMD...  X-RAY DIFFRACTION   \n",
       "4  MNQIDLNVTCRYAGVFHVEKNGRYSISRTEAADLCQAFNSTLPTMD...  X-RAY DIFFRACTION   \n",
       "\n",
       "   Resolution Release_date  \n",
       "0       2.200   2004-03-04  \n",
       "1       1.083   2014-09-17  \n",
       "2       1.600   2014-09-17  \n",
       "3       1.300   2007-01-30  \n",
       "4       1.250   2007-01-30  "
      ]
     },
     "execution_count": 9,
     "metadata": {},
     "output_type": "execute_result"
    }
   ],
   "source": [
    "targets.head()"
   ]
  },
  {
   "cell_type": "code",
   "execution_count": null,
   "metadata": {},
   "outputs": [],
   "source": [
    "targets.to_csv('../CD44_crystal_structures/aligment.csv')"
   ]
  },
  {
   "cell_type": "code",
   "execution_count": 10,
   "metadata": {},
   "outputs": [],
   "source": [
    "f= open('../CD44_crystal_structures/sequence_aligment.txt',\"w+\")\n",
    "size=len(list(targets.index))\n",
    "hmap=np.empty(shape=(size,size))\n",
    "for i in targets.index:\n",
    "    for j in targets.index:\n",
    "        a=targets.loc[i].at['Sequence']\n",
    "        b=targets.loc[j].at['Sequence']\n",
    "        alignment= pairwise2.align.globalxx(a, b,score_only=True)\n",
    "        identity=((alignment*100)/len(b))\n",
    "        hmap[i,j]=identity\n",
    "        line= (targets.loc[i].at['PDB_id'].split('_')[0]+' vs '+targets.loc[j].at['PDB_id'].split('_')[0]+' : '+str(identity)+'\\n')\n",
    "        f.write (line)\n",
    "f.close()"
   ]
  },
  {
   "cell_type": "code",
   "execution_count": 13,
   "metadata": {},
   "outputs": [
    {
     "data": {
      "image/png": "[encoded data removed]",
      "text/plain": [
       "<Figure size 864x864 with 2 Axes>"
      ]
     },
     "metadata": {
      "needs_background": "light"
     },
     "output_type": "display_data"
    }
   ],
   "source": [
    "fig, ax = plt.subplots(figsize=(12,12))\n",
    "plt.imshow (hmap,cmap='Blues', interpolation='nearest')\n",
    "plt.xticks (targets.index,targets['PDB_id'],rotation=90)\n",
    "plt.yticks (targets.index,targets['PDB_id'])\n",
    "ax.xaxis.tick_top()\n",
    "m=plt.colorbar(shrink=0.7,orientation='horizontal',spacing='uniform',pad=0.02)\n",
    "m.set_label ('% of Identity')\n",
    "plt.tick_params ('both',width=2,labelsize=10)\n",
    "plt.savefig('../CD44_crystal_structures/aligment_hmap.svg',quality=95,dpi=600,format='svg',transparent=False)\n",
    "plt.show()"
   ]
  },
  {
   "cell_type": "code",
   "execution_count": null,
   "metadata": {},
   "outputs": [],
   "source": []
  }
 ],
 "metadata": {
  "kernelspec": {
   "display_name": "Chem_3",
   "language": "python",
   "name": "chem_3"
  },
  "language_info": {
   "codemirror_mode": {
    "name": "ipython",
    "version": 3
   },
   "file_extension": ".py",
   "mimetype": "text/x-python",
   "name": "python",
   "nbconvert_exporter": "python",
   "pygments_lexer": "ipython3",
   "version": "3.7.4"
  }
 },
 "nbformat": 4,
 "nbformat_minor": 4
}
