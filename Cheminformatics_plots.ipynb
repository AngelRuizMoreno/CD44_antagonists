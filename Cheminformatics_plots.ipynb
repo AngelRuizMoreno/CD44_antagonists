{
 "cells": [
  {
   "cell_type": "code",
   "execution_count": 1,
   "metadata": {},
   "outputs": [],
   "source": [
    "import pandas as pd\n",
    "from matplotlib import pyplot as plt\n",
    "import seaborn as sns\n",
    "import numpy as np\n",
    "\n",
    "from sklearn.decomposition import PCA\n",
    "from sklearn.preprocessing import StandardScaler\n",
    "\n",
    "import matplotlib.cm as cm\n",
    "from sklearn.metrics import silhouette_samples, silhouette_score\n",
    "from sklearn.cluster import KMeans\n",
    "from sklearn import datasets, decomposition\n",
    "from sklearn.manifold import TSNE\n",
    "\n",
    "from rdkit import Chem, DataStructs\n",
    "from rdkit.Chem import AllChem, MACCSkeys\n",
    "from rdkit.Chem import AllChem, Descriptors, Descriptors3D, Draw, rdMolDescriptors\n",
    "from rdkit.DataManip.Metric.rdMetricMatrixCalc import GetTanimotoSimMat, GetTanimotoDistMat\n",
    "\n",
    "import os\n",
    "import progressbar\n",
    "\n",
    "from math import pi"
   ]
  },
  {
   "cell_type": "markdown",
   "metadata": {},
   "source": [
    "table=pd.DataFrame()\n",
    "i=0\n",
    "mols=Chem.SDMolSupplier('DrugBank.sdf')\n",
    "bar=progressbar.ProgressBar(max_value=len(mols))\n",
    "for mol in mols:\n",
    "    if mol:\n",
    "        #AllChem.Compute2DCoords(mol)\n",
    "        Chem.SanitizeMol(mol)\n",
    "        Chem.RemoveHs(mol)\n",
    "        table.loc[i,'Smiles']=Chem.MolToSmiles(mol,True)\n",
    "        table.loc[i,'MolWt']=Descriptors.MolWt(mol)\n",
    "        table.loc[i,'LogP']=Descriptors.MolLogP(mol)\n",
    "        table.loc[i,'NumHAcceptors']=Descriptors.NumHAcceptors(mol)\n",
    "        table.loc[i,'NumHDonors']=Descriptors.NumHDonors(mol)\n",
    "        table.loc[i,'NumHeteroatoms']=Descriptors.NumHeteroatoms(mol)\n",
    "        table.loc[i,'NumRotableBonds']=Descriptors.NumRotatableBonds(mol)\n",
    "        table.loc[i,'NumHeavyAtoms']=Descriptors.HeavyAtomCount (mol)\n",
    "        table.loc[i,'MolMR']=Descriptors.MolMR (mol)\n",
    "        table.loc[i,'NumAliphaticCarbocycles']=Descriptors.NumAliphaticCarbocycles(mol)\n",
    "        table.loc[i,'NumAliphaticHeterocycles']=Descriptors.NumAliphaticHeterocycles(mol)\n",
    "        table.loc[i,'NumAliphaticRings']=Descriptors.NumAliphaticRings(mol)\n",
    "        table.loc[i,'NumAromaticCarbocycles']=Descriptors.NumAromaticCarbocycles(mol)\n",
    "        table.loc[i,'NumAromaticHeterocycles']=Descriptors.NumAromaticHeterocycles(mol)\n",
    "        table.loc[i,'NumAromaticRings']=Descriptors.NumAromaticRings(mol)\n",
    "        table.loc[i,'RingCount']=Descriptors.RingCount(mol)\n",
    "        table.loc[i,'FractionCSP3']=Descriptors.FractionCSP3(mol)\n",
    "        table.loc[i,'NumNHOH']=Descriptors.NHOHCount(mol)\n",
    "        table.loc[i,'NumNO']=Descriptors.NOCount(mol)\n",
    "        table.loc[i,'DataBase']='DrugBank'\n",
    "\n",
    "        try:\n",
    "            #AllChem.MMFFOptimizeMolecule(mol,mmffVariant='MMFF94s')\n",
    "            table.loc[i,'TPSA']=Descriptors.TPSA(mol)\n",
    "            table.loc[i,'PMI1']=Descriptors3D.PMI1(mol)\n",
    "            table.loc[i,'PMI2']=Descriptors3D.PMI2(mol)\n",
    "            table.loc[i,'PMI3']=Descriptors3D.PMI3(mol)\n",
    "            table.loc[i,'PBF']=rdMolDescriptors.CalcPBF(mol)\n",
    "            table.loc[i,'NPR1']=rdMolDescriptors.CalcNPR1(mol)\n",
    "            table.loc[i,'NPR2']=rdMolDescriptors.CalcNPR2(mol)\n",
    "            table.loc[i,'InertialShapeFactor']=Descriptors3D.InertialShapeFactor(mol)\n",
    "            table.loc[i,'Asphericity']=Descriptors3D.Asphericity(mol)\n",
    "            table.loc[i,'Eccentricity']=Descriptors3D.Eccentricity(mol)\n",
    "            table.loc[i,'InertialShapeFactor']=Descriptors3D.InertialShapeFactor(mol)\n",
    "            table.loc[i,'RadiusOfGyration']=Descriptors3D.RadiusOfGyration(mol)\n",
    "            table.loc[i,'SpherocityIndex']=Descriptors3D.SpherocityIndex(mol)\n",
    "            i=i+1\n",
    "            bar.update(i)\n",
    "        except Exception:\n",
    "            i=i+1\n",
    "            continue"
   ]
  },
  {
   "cell_type": "markdown",
   "metadata": {},
   "source": [
    "#table=pd.DataFrame()\n",
    "i=table.index[-1]+1\n",
    "mols=Chem.SDMolSupplier('compounds.sdf')\n",
    "bar=progressbar.ProgressBar(max_value=len(mols))\n",
    "for mol in mols:\n",
    "    if mol:\n",
    "        #AllChem.Compute2DCoords(mol)\n",
    "        Chem.SanitizeMol(mol)\n",
    "        Chem.RemoveHs(mol)\n",
    "        table.loc[i,'Smiles']=Chem.MolToSmiles(mol,True)\n",
    "        table.loc[i,'MolWt']=Descriptors.MolWt(mol)\n",
    "        table.loc[i,'LogP']=Descriptors.MolLogP(mol)\n",
    "        table.loc[i,'NumHAcceptors']=Descriptors.NumHAcceptors(mol)\n",
    "        table.loc[i,'NumHDonors']=Descriptors.NumHDonors(mol)\n",
    "        table.loc[i,'NumHeteroatoms']=Descriptors.NumHeteroatoms(mol)\n",
    "        table.loc[i,'NumRotableBonds']=Descriptors.NumRotatableBonds(mol)\n",
    "        table.loc[i,'NumHeavyAtoms']=Descriptors.HeavyAtomCount (mol)\n",
    "        table.loc[i,'MolMR']=Descriptors.MolMR (mol)\n",
    "        table.loc[i,'NumAliphaticCarbocycles']=Descriptors.NumAliphaticCarbocycles(mol)\n",
    "        table.loc[i,'NumAliphaticHeterocycles']=Descriptors.NumAliphaticHeterocycles(mol)\n",
    "        table.loc[i,'NumAliphaticRings']=Descriptors.NumAliphaticRings(mol)\n",
    "        table.loc[i,'NumAromaticCarbocycles']=Descriptors.NumAromaticCarbocycles(mol)\n",
    "        table.loc[i,'NumAromaticHeterocycles']=Descriptors.NumAromaticHeterocycles(mol)\n",
    "        table.loc[i,'NumAromaticRings']=Descriptors.NumAromaticRings(mol)\n",
    "        table.loc[i,'RingCount']=Descriptors.RingCount(mol)\n",
    "        table.loc[i,'FractionCSP3']=Descriptors.FractionCSP3(mol)\n",
    "        table.loc[i,'NumNHOH']=Descriptors.NHOHCount(mol)\n",
    "        table.loc[i,'NumNO']=Descriptors.NOCount(mol)\n",
    "        if mol.HasSubstructMatch(Chem.MolFromSmarts('c1nnnn1'))==True:\n",
    "            table.loc[i,'DataBase']='Tetrazol'\n",
    "        else:\n",
    "            table.loc[i,'DataBase']='Ugi'\n",
    "        try:\n",
    "            #AllChem.MMFFOptimizeMolecule(mol,mmffVariant='MMFF94s')\n",
    "            table.loc[i,'TPSA']=Descriptors.TPSA(mol)\n",
    "            table.loc[i,'PMI1']=Descriptors3D.PMI1(mol)\n",
    "            table.loc[i,'PMI2']=Descriptors3D.PMI2(mol)\n",
    "            table.loc[i,'PMI3']=Descriptors3D.PMI3(mol)\n",
    "            table.loc[i,'PBF']=rdMolDescriptors.CalcPBF(mol)\n",
    "            table.loc[i,'NPR1']=rdMolDescriptors.CalcNPR1(mol)\n",
    "            table.loc[i,'NPR2']=rdMolDescriptors.CalcNPR2(mol)\n",
    "            table.loc[i,'InertialShapeFactor']=Descriptors3D.InertialShapeFactor(mol)\n",
    "            table.loc[i,'Asphericity']=Descriptors3D.Asphericity(mol)\n",
    "            table.loc[i,'Eccentricity']=Descriptors3D.Eccentricity(mol)\n",
    "            table.loc[i,'InertialShapeFactor']=Descriptors3D.InertialShapeFactor(mol)\n",
    "            table.loc[i,'RadiusOfGyration']=Descriptors3D.RadiusOfGyration(mol)\n",
    "            table.loc[i,'SpherocityIndex']=Descriptors3D.SpherocityIndex(mol)\n",
    "            i=i+1\n",
    "            bar.update(i)\n",
    "        except Exception:\n",
    "            i=i+1\n",
    "            continue\n",
    "table.to_csv ('Descriptors.csv') "
   ]
  },
  {
   "cell_type": "code",
   "execution_count": 2,
   "metadata": {},
   "outputs": [],
   "source": [
    "table=pd.read_csv('Descriptors.csv',index_col=[0])"
   ]
  },
  {
   "cell_type": "code",
   "execution_count": 3,
   "metadata": {},
   "outputs": [
    {
     "data": {
      "text/html": [
       "<div>\n",
       "<style scoped>\n",
       "    .dataframe tbody tr th:only-of-type {\n",
       "        vertical-align: middle;\n",
       "    }\n",
       "\n",
       "    .dataframe tbody tr th {\n",
       "        vertical-align: top;\n",
       "    }\n",
       "\n",
       "    .dataframe thead th {\n",
       "        text-align: right;\n",
       "    }\n",
       "</style>\n",
       "<table border=\"1\" class=\"dataframe\">\n",
       "  <thead>\n",
       "    <tr style=\"text-align: right;\">\n",
       "      <th></th>\n",
       "      <th>Smiles</th>\n",
       "      <th>MolWt</th>\n",
       "      <th>LogP</th>\n",
       "      <th>NumHAcceptors</th>\n",
       "      <th>NumHDonors</th>\n",
       "      <th>NumHeteroatoms</th>\n",
       "      <th>NumRotableBonds</th>\n",
       "      <th>NumHeavyAtoms</th>\n",
       "      <th>MolMR</th>\n",
       "      <th>NumAliphaticCarbocycles</th>\n",
       "      <th>...</th>\n",
       "      <th>PMI2</th>\n",
       "      <th>PMI3</th>\n",
       "      <th>PBF</th>\n",
       "      <th>NPR1</th>\n",
       "      <th>NPR2</th>\n",
       "      <th>InertialShapeFactor</th>\n",
       "      <th>Asphericity</th>\n",
       "      <th>Eccentricity</th>\n",
       "      <th>RadiusOfGyration</th>\n",
       "      <th>SpherocityIndex</th>\n",
       "    </tr>\n",
       "  </thead>\n",
       "  <tbody>\n",
       "    <tr>\n",
       "      <th>0</th>\n",
       "      <td>O=C([O-])CC(O)(CC(=O)[O-])C(=O)[O-].O=C([O-])C...</td>\n",
       "      <td>574.368</td>\n",
       "      <td>-10.51270</td>\n",
       "      <td>14</td>\n",
       "      <td>2</td>\n",
       "      <td>17</td>\n",
       "      <td>10</td>\n",
       "      <td>29</td>\n",
       "      <td>58.4096</td>\n",
       "      <td>0</td>\n",
       "      <td>...</td>\n",
       "      <td>2.012297e+04</td>\n",
       "      <td>2.720695e+04</td>\n",
       "      <td>0.963196</td>\n",
       "      <td>0.307622</td>\n",
       "      <td>0.739626</td>\n",
       "      <td>0.000088</td>\n",
       "      <td>0.350165</td>\n",
       "      <td>0.951509</td>\n",
       "      <td>7.025217</td>\n",
       "      <td>0.129587</td>\n",
       "    </tr>\n",
       "    <tr>\n",
       "      <th>1</th>\n",
       "      <td>O=C([O-])c1ccccn1.O=C([O-])c1ccccn1.[Zn+2]</td>\n",
       "      <td>309.596</td>\n",
       "      <td>-1.11230</td>\n",
       "      <td>6</td>\n",
       "      <td>0</td>\n",
       "      <td>7</td>\n",
       "      <td>2</td>\n",
       "      <td>19</td>\n",
       "      <td>57.1350</td>\n",
       "      <td>0</td>\n",
       "      <td>...</td>\n",
       "      <td>7.720338e+03</td>\n",
       "      <td>1.051484e+04</td>\n",
       "      <td>0.000000</td>\n",
       "      <td>0.265768</td>\n",
       "      <td>0.734232</td>\n",
       "      <td>0.000263</td>\n",
       "      <td>0.414594</td>\n",
       "      <td>0.964037</td>\n",
       "      <td>5.905201</td>\n",
       "      <td>0.000000</td>\n",
       "    </tr>\n",
       "    <tr>\n",
       "      <th>2</th>\n",
       "      <td>O=C([O-])C(O)C(O)C(O)C(O)CO.O=C([O-])C(O)C(O)C...</td>\n",
       "      <td>455.684</td>\n",
       "      <td>-9.65810</td>\n",
       "      <td>14</td>\n",
       "      <td>10</td>\n",
       "      <td>15</td>\n",
       "      <td>10</td>\n",
       "      <td>27</td>\n",
       "      <td>72.2400</td>\n",
       "      <td>0</td>\n",
       "      <td>...</td>\n",
       "      <td>1.916594e+04</td>\n",
       "      <td>2.185341e+04</td>\n",
       "      <td>0.759116</td>\n",
       "      <td>0.243633</td>\n",
       "      <td>0.877023</td>\n",
       "      <td>0.000165</td>\n",
       "      <td>0.439563</td>\n",
       "      <td>0.969868</td>\n",
       "      <td>7.311073</td>\n",
       "      <td>0.090516</td>\n",
       "    </tr>\n",
       "    <tr>\n",
       "      <th>3</th>\n",
       "      <td>NCCC(=O)[N-]C(Cc1cnc[nH]1)C(=O)[O-].[Zn+2]</td>\n",
       "      <td>289.610</td>\n",
       "      <td>-1.68270</td>\n",
       "      <td>5</td>\n",
       "      <td>2</td>\n",
       "      <td>8</td>\n",
       "      <td>6</td>\n",
       "      <td>17</td>\n",
       "      <td>53.1241</td>\n",
       "      <td>0</td>\n",
       "      <td>...</td>\n",
       "      <td>7.483473e+03</td>\n",
       "      <td>7.778370e+03</td>\n",
       "      <td>0.724420</td>\n",
       "      <td>0.089600</td>\n",
       "      <td>0.962088</td>\n",
       "      <td>0.001380</td>\n",
       "      <td>0.756160</td>\n",
       "      <td>0.995978</td>\n",
       "      <td>5.362194</td>\n",
       "      <td>0.158721</td>\n",
       "    </tr>\n",
       "    <tr>\n",
       "      <th>4</th>\n",
       "      <td>CCC(C)C(/N=C(\\O)C(Cc1ccccc1)/N=C(\\O)C(CC(C)C)/...</td>\n",
       "      <td>4909.512</td>\n",
       "      <td>13.84688</td>\n",
       "      <td>71</td>\n",
       "      <td>73</td>\n",
       "      <td>128</td>\n",
       "      <td>169</td>\n",
       "      <td>343</td>\n",
       "      <td>1305.9427</td>\n",
       "      <td>0</td>\n",
       "      <td>...</td>\n",
       "      <td>1.550660e+06</td>\n",
       "      <td>1.697210e+06</td>\n",
       "      <td>4.259569</td>\n",
       "      <td>0.221321</td>\n",
       "      <td>0.913652</td>\n",
       "      <td>0.000002</td>\n",
       "      <td>0.479638</td>\n",
       "      <td>0.975201</td>\n",
       "      <td>19.933297</td>\n",
       "      <td>0.209634</td>\n",
       "    </tr>\n",
       "  </tbody>\n",
       "</table>\n",
       "<p>5 rows × 32 columns</p>\n",
       "</div>"
      ],
      "text/plain": [
       "                                              Smiles     MolWt      LogP  \\\n",
       "0  O=C([O-])CC(O)(CC(=O)[O-])C(=O)[O-].O=C([O-])C...   574.368 -10.51270   \n",
       "1         O=C([O-])c1ccccn1.O=C([O-])c1ccccn1.[Zn+2]   309.596  -1.11230   \n",
       "2  O=C([O-])C(O)C(O)C(O)C(O)CO.O=C([O-])C(O)C(O)C...   455.684  -9.65810   \n",
       "3         NCCC(=O)[N-]C(Cc1cnc[nH]1)C(=O)[O-].[Zn+2]   289.610  -1.68270   \n",
       "4  CCC(C)C(/N=C(\\O)C(Cc1ccccc1)/N=C(\\O)C(CC(C)C)/...  4909.512  13.84688   \n",
       "\n",
       "   NumHAcceptors  NumHDonors  NumHeteroatoms  NumRotableBonds  NumHeavyAtoms  \\\n",
       "0             14           2              17               10             29   \n",
       "1              6           0               7                2             19   \n",
       "2             14          10              15               10             27   \n",
       "3              5           2               8                6             17   \n",
       "4             71          73             128              169            343   \n",
       "\n",
       "       MolMR  NumAliphaticCarbocycles  ...          PMI2          PMI3  \\\n",
       "0    58.4096                        0  ...  2.012297e+04  2.720695e+04   \n",
       "1    57.1350                        0  ...  7.720338e+03  1.051484e+04   \n",
       "2    72.2400                        0  ...  1.916594e+04  2.185341e+04   \n",
       "3    53.1241                        0  ...  7.483473e+03  7.778370e+03   \n",
       "4  1305.9427                        0  ...  1.550660e+06  1.697210e+06   \n",
       "\n",
       "        PBF      NPR1      NPR2  InertialShapeFactor  Asphericity  \\\n",
       "0  0.963196  0.307622  0.739626             0.000088     0.350165   \n",
       "1  0.000000  0.265768  0.734232             0.000263     0.414594   \n",
       "2  0.759116  0.243633  0.877023             0.000165     0.439563   \n",
       "3  0.724420  0.089600  0.962088             0.001380     0.756160   \n",
       "4  4.259569  0.221321  0.913652             0.000002     0.479638   \n",
       "\n",
       "   Eccentricity  RadiusOfGyration SpherocityIndex  \n",
       "0      0.951509          7.025217        0.129587  \n",
       "1      0.964037          5.905201        0.000000  \n",
       "2      0.969868          7.311073        0.090516  \n",
       "3      0.995978          5.362194        0.158721  \n",
       "4      0.975201         19.933297        0.209634  \n",
       "\n",
       "[5 rows x 32 columns]"
      ]
     },
     "execution_count": 3,
     "metadata": {},
     "output_type": "execute_result"
    }
   ],
   "source": [
    "table.head()"
   ]
  },
  {
   "cell_type": "code",
   "execution_count": 4,
   "metadata": {},
   "outputs": [],
   "source": [
    "table=table.sort_values('LogP',ascending=True)"
   ]
  },
  {
   "cell_type": "code",
   "execution_count": null,
   "metadata": {},
   "outputs": [],
   "source": [
    "plt.rcParams['axes.linewidth'] = 1.5\n",
    "plt.figure(figsize=(8,8))\n",
    "\n",
    "ax=sns.scatterplot('NPR1','NPR2',data=table,hue='DataBase',s=22,palette=sns.color_palette(\"Set2\", 3),linewidth=0.5,alpha=1)\n",
    "x1, y1 = [0.5, 0], [0.5, 1]\n",
    "x2, y2 = [0.5, 1], [0.5, 1]\n",
    "x3, y3 = [0,1],[1,1]\n",
    "\n",
    "plt.plot(x1, y1,x2,y2,x3,y3,c='gray',ls='--',lw=2)\n",
    "\n",
    "plt.xlabel ('NPR1',fontsize=24,fontweight='bold')\n",
    "\n",
    "plt.ylabel ('NPR2',fontsize=24,fontweight='bold')\n",
    "\n",
    "ax.spines['top'].set_visible(False)\n",
    "ax.spines['right'].set_visible(False)\n",
    "\n",
    "plt.text(0, 1.01,s='Rod',fontsize=20,horizontalalignment='center',verticalalignment='center',fontweight='bold')\n",
    "plt.text(1, 1.01,s='Sphere',fontsize=20,horizontalalignment='center',verticalalignment='center',fontweight='bold')\n",
    "plt.text(0.5, 0.49,s='Disc',fontsize=20,horizontalalignment='center',verticalalignment='center',fontweight='bold')\n",
    "\n",
    "plt.legend(loc='lower right',frameon=False,prop={'size': 22},ncol=1)\n",
    "plt.tick_params ('both',width=2,labelsize=18)\n",
    "plt.tight_layout()\n",
    "\n",
    "plt.savefig('NPR.png',dpi=300,quality=95,format='png')\n",
    "\n",
    "plt.show()"
   ]
  },
  {
   "cell_type": "code",
   "execution_count": 5,
   "metadata": {},
   "outputs": [],
   "source": [
    "table=table[table.TPSA <= 1000]"
   ]
  },
  {
   "cell_type": "code",
   "execution_count": 6,
   "metadata": {},
   "outputs": [
    {
     "data": {
      "text/plain": [
       "Index(['Smiles', 'MolWt', 'LogP', 'NumHAcceptors', 'NumHDonors',\n",
       "       'NumHeteroatoms', 'NumRotableBonds', 'NumHeavyAtoms', 'MolMR',\n",
       "       'NumAliphaticCarbocycles', 'NumAliphaticHeterocycles',\n",
       "       'NumAliphaticRings', 'NumAromaticCarbocycles',\n",
       "       'NumAromaticHeterocycles', 'NumAromaticRings', 'RingCount',\n",
       "       'FractionCSP3', 'NumNHOH', 'NumNO', 'DataBase', 'TPSA', 'PMI1', 'PMI2',\n",
       "       'PMI3', 'PBF', 'NPR1', 'NPR2', 'InertialShapeFactor', 'Asphericity',\n",
       "       'Eccentricity', 'RadiusOfGyration', 'SpherocityIndex'],\n",
       "      dtype='object')"
      ]
     },
     "execution_count": 6,
     "metadata": {},
     "output_type": "execute_result"
    }
   ],
   "source": [
    "table.columns"
   ]
  },
  {
   "cell_type": "code",
   "execution_count": 7,
   "metadata": {},
   "outputs": [],
   "source": [
    "correlation_table=table[['MolWt', 'LogP', 'NumHAcceptors', 'NumHDonors',\n",
    "                         'NumHeteroatoms', 'NumRotableBonds', 'NumHeavyAtoms', 'MolMR',\n",
    "                         'NumAliphaticCarbocycles', 'NumAliphaticHeterocycles',\n",
    "                         'NumAliphaticRings', 'NumAromaticCarbocycles',\n",
    "                         'NumAromaticHeterocycles', 'NumAromaticRings', 'RingCount',\n",
    "                         'FractionCSP3', 'NumNHOH', 'NumNO', 'TPSA', 'PMI1', 'PMI2',\n",
    "                         'PMI3', 'PBF', 'NPR1', 'NPR2', 'InertialShapeFactor', 'Asphericity',\n",
    "                         'Eccentricity', 'RadiusOfGyration', 'SpherocityIndex']].corr()"
   ]
  },
  {
   "cell_type": "code",
   "execution_count": null,
   "metadata": {},
   "outputs": [],
   "source": [
    "correlation_table.shape"
   ]
  },
  {
   "cell_type": "code",
   "execution_count": null,
   "metadata": {},
   "outputs": [],
   "source": [
    "fig, ax = plt.subplots(figsize=(8,8))\n",
    "sns.heatmap(correlation_table,cmap='PuRd',cbar_kws=dict(label='Frequency',shrink=1,orientation='vertical',spacing='uniform',pad=0.02))\n",
    "\n",
    "plt.title('Descriptors Correlation',size='22',weight='bold')\n",
    "plt.xticks (rotation=90,fontsize=12)\n",
    "plt.yticks (fontsize=12)\n",
    "#ax.xaxis.tick_top()\n",
    "plt.tick_params ('both',width=2,labelsize=12)\n",
    "plt.show()"
   ]
  },
  {
   "cell_type": "code",
   "execution_count": null,
   "metadata": {},
   "outputs": [],
   "source": [
    "descriptors = table[['MolWt', 'LogP','NumHeteroatoms','RingCount','FractionCSP3', \n",
    "                     'NumNHOH', 'NumNO', 'TPSA','PBF',\n",
    "                     'InertialShapeFactor','RadiusOfGyration']].values"
   ]
  },
  {
   "cell_type": "code",
   "execution_count": null,
   "metadata": {},
   "outputs": [],
   "source": [
    "descriptors_std = StandardScaler().fit_transform(descriptors)"
   ]
  },
  {
   "cell_type": "code",
   "execution_count": null,
   "metadata": {},
   "outputs": [],
   "source": [
    "pca = PCA()\n",
    "descriptors_2d = pca.fit_transform(descriptors_std)"
   ]
  },
  {
   "cell_type": "code",
   "execution_count": null,
   "metadata": {},
   "outputs": [],
   "source": [
    "descriptors_pca= pd.DataFrame(descriptors_2d)\n",
    "descriptors_pca.index = table.index\n",
    "descriptors_pca.columns = ['PC{}'.format(i+1) for i in descriptors_pca.columns]\n",
    "descriptors_pca.head(10)"
   ]
  },
  {
   "cell_type": "code",
   "execution_count": null,
   "metadata": {},
   "outputs": [],
   "source": [
    "print(pca.explained_variance_ratio_) \n",
    "print(sum(pca.explained_variance_ratio_))"
   ]
  },
  {
   "cell_type": "code",
   "execution_count": null,
   "metadata": {},
   "outputs": [],
   "source": [
    "plt.rcParams['axes.linewidth'] = 1.5\n",
    "plt.figure(figsize=(8,6))\n",
    "fig, ax = plt.subplots(figsize=(8,6))\n",
    "\n",
    "var=np.cumsum(np.round(pca.explained_variance_ratio_, decimals=3)*100)\n",
    "plt.plot([i+1 for i in range(len(var))],var,'k-',linewidth=2)\n",
    "plt.xticks([i+1 for i in range(len(var))])\n",
    "plt.ylabel('% Variance Explained',fontsize=16,fontweight='bold')\n",
    "plt.xlabel('Pincipal Component (PC)',fontsize=16,fontweight='bold')\n",
    "ax.spines['top'].set_visible(False)\n",
    "ax.spines['right'].set_visible(False)\n",
    "plt.tight_layout()\n",
    "plt.tick_params ('both',width=2,labelsize=12)"
   ]
  },
  {
   "cell_type": "code",
   "execution_count": null,
   "metadata": {},
   "outputs": [],
   "source": [
    "fig = plt.figure(figsize=(8,6))\n",
    "ax = fig.add_subplot(111)\n",
    "\n",
    "ax.plot(descriptors_pca['PC1'],descriptors_pca['PC2'],'.',color='k',markersize=2)\n",
    "ax.set_title ('Principal Component Analysis',fontsize=16,fontweight='bold',family='sans-serif')\n",
    "ax.set_xlabel ('PC1',fontsize=14,fontweight='bold')\n",
    "ax.set_ylabel ('PC2',fontsize=14,fontweight='bold')\n",
    "\n",
    "plt.tick_params ('both',width=2,labelsize=12)\n",
    "\n",
    "plt.tight_layout()\n",
    "plt.show()"
   ]
  },
  {
   "cell_type": "code",
   "execution_count": null,
   "metadata": {},
   "outputs": [],
   "source": [
    "# This normalization will be performed just for PC1 and PC2, but can be done for all the components.\n",
    "scale1 = 1.0/(max(descriptors_pca['PC1']) - min(descriptors_pca['PC1']))\n",
    "scale2 = 1.0/(max(descriptors_pca['PC2']) - min(descriptors_pca['PC2']))\n",
    "\n",
    "# And we add the new values to our PCA table\n",
    "descriptors_pca['PC1_normalized']=[i*scale1 for i in descriptors_pca['PC1']]\n",
    "descriptors_pca['PC2_normalized']=[i*scale2 for i in descriptors_pca['PC2']]"
   ]
  },
  {
   "cell_type": "code",
   "execution_count": null,
   "metadata": {},
   "outputs": [],
   "source": [
    "descriptors_pca.head(10)"
   ]
  },
  {
   "cell_type": "code",
   "execution_count": null,
   "metadata": {},
   "outputs": [],
   "source": [
    "fig = plt.figure(figsize=(8,6))\n",
    "ax = fig.add_subplot(111)\n",
    "\n",
    "ax.plot(descriptors_pca['PC1_normalized'],descriptors_pca['PC2_normalized'],'.',color='k',markersize=2)\n",
    "ax.set_title ('Principal Component Analysis',fontsize=16,fontweight='bold',family='sans-serif')\n",
    "ax.set_xlabel ('PC1',fontsize=14,fontweight='bold')\n",
    "ax.set_ylabel ('PC2',fontsize=14,fontweight='bold')\n",
    "\n",
    "plt.tick_params ('both',width=2,labelsize=12)\n",
    "\n",
    "plt.tight_layout()\n",
    "plt.show()"
   ]
  },
  {
   "cell_type": "code",
   "execution_count": null,
   "metadata": {},
   "outputs": [],
   "source": [
    "table['PC1_normalized']=descriptors_pca['PC1_normalized']\n",
    "table['PC2_normalized']=descriptors_pca['PC2_normalized']"
   ]
  },
  {
   "cell_type": "code",
   "execution_count": null,
   "metadata": {},
   "outputs": [],
   "source": [
    "table=table.sort_values('PC2_normalized',ascending=False)"
   ]
  },
  {
   "cell_type": "code",
   "execution_count": null,
   "metadata": {},
   "outputs": [],
   "source": [
    "plt.rcParams['axes.linewidth'] = 1.5\n",
    "plt.figure(figsize=(8,8))\n",
    "\n",
    "ax=sns.scatterplot('PC1_normalized','PC2_normalized',data=table,hue='DataBase',s=20,palette=sns.color_palette(\"Set2\", 3),linewidth=0.2,alpha=1)\n",
    "\n",
    "plt.xlabel ('PC1',fontsize=24,fontweight='bold')\n",
    "ax.xaxis.set_label_coords(0.98, 0.45)\n",
    "plt.ylabel ('PC2',fontsize=24,fontweight='bold')\n",
    "ax.yaxis.set_label_coords(0.45, 0.98)\n",
    "\n",
    "ax.spines['left'].set_position(('data', 0))\n",
    "ax.spines['bottom'].set_position(('data', 0))\n",
    "ax.spines['top'].set_visible(False)\n",
    "ax.spines['right'].set_visible(False)\n",
    "\n",
    "lab=['MolWt', 'LogP','NumHeteroatoms','RingCount','FractionCSP3', \n",
    "     'NumNHOH', 'NumNO', 'TPSA','PBF',\n",
    "     'InertialShapeFactor','RadiusOfGyration'] #Feature labels\n",
    "\n",
    "l=np.transpose(pca.components_[0:2, :]) ## We will get the components eigenvectors (main features) for PC1 and PC2\n",
    "\n",
    "n = l.shape[0]\n",
    "for i in range(n):\n",
    "    plt.arrow(0, 0, l[i,0], l[i,1],color= 'k',alpha=0.5,linewidth=1.8,head_width=0.025)\n",
    "    plt.text(l[i,0]*1.25, l[i,1]*1.25, lab[i], color = 'k',va = 'center', ha = 'center',fontsize=16)\n",
    "\n",
    "circle = plt.Circle((0,0), 1, color='gray', fill=False,clip_on=True,linewidth=1.5,linestyle='--')\n",
    "\n",
    "plt.legend(loc='lower right',frameon=False,prop={'size': 22},ncol=1)\n",
    "\n",
    "plt.tick_params ('both',width=2,labelsize=18)\n",
    "\n",
    "ax.add_artist(circle)\n",
    "plt.xlim(-1.2,1.2)\n",
    "plt.ylim(-1.2,1.2)\n",
    "plt.tight_layout()\n",
    "plt.savefig('PCA.png',dpi=300,quality=95,format='png')\n",
    "plt.show()"
   ]
  },
  {
   "cell_type": "markdown",
   "metadata": {},
   "source": [
    "range_n_clusters = [2, 3, 4, 5, 6, 7, 8, 9, 10]\n",
    "for n_clusters in range_n_clusters:\n",
    "    fig, (ax1,ax2)= plt.subplots(1, 2)\n",
    "    fig.set_size_inches(8, 4)\n",
    "    \n",
    "    kmeans = KMeans(n_clusters=n_clusters, random_state=10)\n",
    "    cluster_labels = kmeans.fit_predict(descriptors_pca[['PC1_normalized','PC2_normalized']])\n",
    "    silhouette_avg = silhouette_score(descriptors_pca[['PC1_normalized','PC2_normalized']], cluster_labels)\n",
    "    print(\"For n_clusters =\", n_clusters,\n",
    "          \"The average silhouette_score is :\", silhouette_avg)\n",
    "    \n",
    "    sample_silhouette_values = silhouette_samples(descriptors_pca[['PC1_normalized','PC2_normalized']], cluster_labels)\n",
    "\n",
    "    y_lower = 10\n",
    "    \n",
    "    for i in range(n_clusters):\n",
    "        # Aggregate the silhouette scores for samples belonging to\n",
    "        # cluster i, and sort them\n",
    "        ith_cluster_silhouette_values = \\\n",
    "            sample_silhouette_values[cluster_labels == i]\n",
    "\n",
    "        ith_cluster_silhouette_values.sort()\n",
    "\n",
    "        size_cluster_i = ith_cluster_silhouette_values.shape[0]\n",
    "        y_upper = y_lower + size_cluster_i\n",
    "\n",
    "        color = cm.nipy_spectral(float(i) / n_clusters)\n",
    "        ax1.fill_betweenx(np.arange(y_lower, y_upper),\n",
    "                          0, ith_cluster_silhouette_values,\n",
    "                          facecolor=color, edgecolor=color, alpha=0.7)\n",
    "\n",
    "        # Label the silhouette plots with their cluster numbers at the middle\n",
    "        ax1.text(-0.05, y_lower + 0.5 * size_cluster_i, str(i))\n",
    "\n",
    "        # Compute the new y_lower for next plot\n",
    "        y_lower = y_upper + 10  # 10 for the 0 samples\n",
    "\n",
    "    ax1.set_title(\"The silhouette plot for the various clusters.\")\n",
    "    ax1.set_xlabel(\"The silhouette coefficient values\")\n",
    "    ax1.set_ylabel(\"Cluster label\")\n",
    "\n",
    "    # The vertical line for average silhouette score of all the values\n",
    "    ax1.axvline(x=silhouette_avg, color=\"red\", linestyle=\"--\")\n",
    "\n",
    "\n",
    "    # 2nd Plot showing the actual clusters formed\n",
    "    colors = cm.nipy_spectral(cluster_labels.astype(float) / n_clusters)\n",
    "    ax2.scatter(descriptors_pca['PC1_normalized'], descriptors_pca['PC2_normalized'], \n",
    "                marker='.', s=30, lw=0, alpha=0.7,c=colors, edgecolor='k')\n",
    "\n",
    "\n",
    "    # Labeling the clusters\n",
    "    centers = kmeans.cluster_centers_\n",
    "    # Draw white circles at cluster centers\n",
    "    ax2.scatter(centers[:, 0], centers[:, 1], marker='o',\n",
    "                c=\"white\", alpha=1, s=200, edgecolor='k')\n",
    "\n",
    "    for i, c in enumerate(centers):\n",
    "        ax2.scatter(c[0], c[1], marker='$%d$' % i, alpha=1,\n",
    "                    s=50, edgecolor='k')\n",
    "\n",
    "    ax2.set_title(\"The visualization of the clustered data.\")\n",
    "    ax2.set_xlabel(\"PC1\")\n",
    "    ax2.set_ylabel(\"PC2\")\n",
    "\n",
    "    plt.suptitle((\"Silhouette analysis for KMeans clustering on sample data \"\n",
    "                  \"with n_clusters = %d\" % n_clusters),\n",
    "                 fontsize=14, fontweight='bold')\n",
    "\n",
    "    \n",
    "plt.show()"
   ]
  },
  {
   "cell_type": "markdown",
   "metadata": {},
   "source": [
    "kmeans = KMeans(n_clusters=2, random_state=10) # We define the best number of clusters\n",
    "clusters = kmeans.fit(descriptors_pca[['PC1_normalized','PC2_normalized']]) #PC1 vs PC2 (normalized values)"
   ]
  },
  {
   "cell_type": "markdown",
   "metadata": {},
   "source": [
    "descriptors_pca['Cluster_PC1_PC2'] = pd.Series(clusters.labels_, index=table.index)"
   ]
  },
  {
   "cell_type": "markdown",
   "metadata": {},
   "source": [
    "plt.rcParams['axes.linewidth'] = 1.5\n",
    "plt.figure(figsize=(10,8))\n",
    "\n",
    "fig, ax = plt.subplots(figsize=(7,7))\n",
    "\n",
    "color_code={ 0:        'magenta',\\\n",
    "             1.0:   'orange',\\\n",
    "             2.0:      'cyan',\\\n",
    "             3.0:           'c',\\\n",
    "             4.0:        'm',\\\n",
    "             5.0:        'y',\\\n",
    "             6.0:        'darkorange',\n",
    "             7.0:       'k',\n",
    "             }\n",
    "\n",
    "for i in descriptors_pca.index: \n",
    "        ax.plot(descriptors_pca.loc[i].at['PC1_normalized'],descriptors_pca.loc[i].at['PC2_normalized'],\n",
    "                    c=color_code[descriptors_pca.loc[i].at['Cluster_PC1_PC2']],\n",
    "                    marker='o',markersize=2,markeredgecolor='k',alpha=0.3)\n",
    "        \n",
    "\n",
    "plt.xlabel ('PC1',fontsize=14,fontweight='bold')\n",
    "ax.xaxis.set_label_coords(0.98, 0.45)\n",
    "plt.ylabel ('PC2',fontsize=14,fontweight='bold')\n",
    "ax.yaxis.set_label_coords(0.45, 0.98)\n",
    "plt.tick_params ('both',width=2,labelsize=12)\n",
    "ax.spines['left'].set_position(('data', 0))\n",
    "ax.spines['bottom'].set_position(('data', 0))\n",
    "ax.spines['top'].set_visible(False)\n",
    "ax.spines['right'].set_visible(False)\n",
    "\n",
    "lab=['MolWt', 'TPSA', 'NumRotableBonds', 'NumHDonors','NumHAcceptors','LogP','NPR1','NPR2','ISF'] #Feature labels\n",
    "\n",
    "l=np.transpose(pca.components_[0:2, :]) ## We will get the components eigenvectors (main features) for PC1 and PC2\n",
    "\n",
    "n = l.shape[0]\n",
    "for i in range(n):\n",
    "    plt.arrow(0, 0, l[i,0], l[i,1],color= 'k',alpha=0.6,linewidth=1.2,head_width=0.025)\n",
    "    plt.text(l[i,0]*1.25, l[i,1]*1.25, lab[i], color = 'k',va = 'center', ha = 'center',fontsize=11)\n",
    "\n",
    "circle = plt.Circle((0,0), 1, color='gray', fill=False,clip_on=True,linewidth=1.5,linestyle='--')\n",
    "ax.add_artist(circle)\n",
    "plt.xlim(-1.2,1.2)\n",
    "plt.ylim(-1.2,1.2)\n",
    "plt.tight_layout()\n",
    "plt.savefig('PCA.png',dpi=300,quality=95,format='png')\n",
    "plt.show()"
   ]
  },
  {
   "cell_type": "code",
   "execution_count": 8,
   "metadata": {},
   "outputs": [],
   "source": [
    "x=table.groupby('DataBase')"
   ]
  },
  {
   "cell_type": "code",
   "execution_count": 9,
   "metadata": {},
   "outputs": [],
   "source": [
    "Ugi=pd.DataFrame()\n",
    "Tetrazol=pd.DataFrame()\n",
    "DrugBank=pd.DataFrame()\n",
    "Data=pd.DataFrame()"
   ]
  },
  {
   "cell_type": "code",
   "execution_count": 10,
   "metadata": {},
   "outputs": [],
   "source": [
    "Ugi=x.get_group('Ugi').sample(n = 1000)\n",
    "Ugi['DataBase']=['Ugi' for i in Ugi.index]\n",
    "Tetrazol=x.get_group('Tetrazole').sample(n = 1000)\n",
    "Tetrazol['DataBase']=['Tetrazole' for i in Tetrazol.index]\n",
    "DrugBank=x.get_group('DrugBank').sample(n = 1000)\n",
    "DrugBank['DataBase']=['DrugBank' for i in DrugBank.index]"
   ]
  },
  {
   "cell_type": "code",
   "execution_count": 11,
   "metadata": {},
   "outputs": [],
   "source": [
    "Data=Data.append(Ugi)\n",
    "Data=Data.append(Tetrazol)\n",
    "Data=Data.append(DrugBank)\n",
    "Data=Data.reset_index(drop=True)"
   ]
  },
  {
   "cell_type": "code",
   "execution_count": 12,
   "metadata": {},
   "outputs": [],
   "source": [
    "Data=Data.sort_values(by='LogP',ascending=True)"
   ]
  },
  {
   "cell_type": "code",
   "execution_count": 13,
   "metadata": {},
   "outputs": [],
   "source": [
    "smiles = list(Data[\"Smiles\"])\n",
    "smi=[Chem.MolFromSmiles(x) for x in smiles]\n",
    "fps =  [MACCSkeys.GenMACCSKeys(x) for x in smi]\n",
    "tanimoto_sim_mat_lower_triangle=GetTanimotoSimMat(fps)\n",
    "n_mol = len(fps)\n",
    "similarity_matrix = np.ones([n_mol,n_mol])\n",
    "i_lower= np.tril_indices(n=n_mol,m=n_mol,k=-1)\n",
    "i_upper= np.triu_indices(n=n_mol,m=n_mol,k=1)\n",
    "similarity_matrix[i_lower] = tanimoto_sim_mat_lower_triangle\n",
    "similarity_matrix[i_upper] = similarity_matrix.T[i_upper] \n",
    "distance_matrix = np.subtract(1,similarity_matrix)"
   ]
  },
  {
   "cell_type": "code",
   "execution_count": 14,
   "metadata": {},
   "outputs": [
    {
     "data": {
      "text/plain": [
       "array([[0.        , 0.36206897, 0.36231884, ..., 0.98360656, 0.75384615,\n",
       "        0.75362319],\n",
       "       [0.36206897, 0.        , 0.47222222, ..., 0.98275862, 0.74193548,\n",
       "        0.76119403],\n",
       "       [0.36231884, 0.47222222, 0.        , ..., 0.97333333, 0.75324675,\n",
       "        0.7375    ],\n",
       "       ...,\n",
       "       [0.98360656, 0.98275862, 0.97333333, ..., 0.        , 0.59375   ,\n",
       "        0.64864865],\n",
       "       [0.75384615, 0.74193548, 0.75324675, ..., 0.59375   , 0.        ,\n",
       "        0.23076923],\n",
       "       [0.75362319, 0.76119403, 0.7375    , ..., 0.64864865, 0.23076923,\n",
       "        0.        ]])"
      ]
     },
     "execution_count": 14,
     "metadata": {},
     "output_type": "execute_result"
    }
   ],
   "source": [
    "distance_matrix"
   ]
  },
  {
   "cell_type": "code",
   "execution_count": 15,
   "metadata": {},
   "outputs": [],
   "source": [
    "TSNE_sim = TSNE(n_components=2,init='pca',random_state=90, angle = 0.3,perplexity=50).fit_transform(distance_matrix)"
   ]
  },
  {
   "cell_type": "code",
   "execution_count": 16,
   "metadata": {},
   "outputs": [],
   "source": [
    "tsne_result = pd.DataFrame(data = TSNE_sim , columns=[\"TC1\",\"TC2\"])\n",
    "Data['TC1']=tsne_result['TC1']\n",
    "Data['TC2']=tsne_result['TC2']"
   ]
  },
  {
   "cell_type": "code",
   "execution_count": 18,
   "metadata": {},
   "outputs": [
    {
     "data": {
      "image/png": "[encoded data removed]",
      "text/plain": [
       "<Figure size 576x576 with 1 Axes>"
      ]
     },
     "metadata": {
      "needs_background": "light"
     },
     "output_type": "display_data"
    }
   ],
   "source": [
    "plt.rcParams['axes.linewidth'] = 1.5\n",
    "fig, ax = plt.subplots(figsize=(8,8))\n",
    "\n",
    "ax=sns.scatterplot('TC1','TC2',data=Data, hue='DataBase',s=22,palette=sns.color_palette(\"Set2\", 3),linewidth=0.2,alpha=1)\n",
    "        \n",
    "\n",
    "plt.xlabel ('tSNE 1',fontsize=24,fontweight='bold')\n",
    "\n",
    "plt.ylabel ('tSNE 2',fontsize=24,fontweight='bold')\n",
    "\n",
    "plt.tick_params ('both',width=2,labelsize=18)\n",
    "\n",
    "ax.spines['top'].set_visible(False)\n",
    "ax.spines['right'].set_visible(False)\n",
    "\n",
    "plt.legend(loc='lower right',frameon=False,prop={'size': 22},ncol=1)\n",
    "\n",
    "plt.tight_layout()\n",
    "plt.savefig('tSNE.png',dpi=300,quality=95,format='png')\n",
    "plt.show()"
   ]
  },
  {
   "cell_type": "code",
   "execution_count": null,
   "metadata": {},
   "outputs": [],
   "source": [
    "Data.to_excel('tSNE_results.xlsx')"
   ]
  },
  {
   "cell_type": "markdown",
   "metadata": {},
   "source": [
    "## Radar chart"
   ]
  },
  {
   "cell_type": "code",
   "execution_count": null,
   "metadata": {},
   "outputs": [],
   "source": [
    "x=Data.groupby('DataBase')"
   ]
  },
  {
   "cell_type": "code",
   "execution_count": null,
   "metadata": {},
   "outputs": [],
   "source": [
    "DB=x.get_group('Ugi')\n",
    "data=pd.DataFrame()"
   ]
  },
  {
   "cell_type": "code",
   "execution_count": null,
   "metadata": {},
   "outputs": [],
   "source": [
    "data['MolWt']=[i/500 for i in DB['MolWt']]\n",
    "data['LogP']=[i/5 for i in DB['LogP']]\n",
    "data['NumHAcceptors']=[i/10 for i in DB['NumHAcceptors']]\n",
    "data['NumHDonors']=[i/5 for i in DB['NumHDonors']]\n",
    "data['NumRotableBonds']=[i/10 for i in DB['NumRotableBonds']]\n",
    "data['TPSA']=[i/140 for i in DB['TPSA']]"
   ]
  },
  {
   "cell_type": "code",
   "execution_count": null,
   "metadata": {},
   "outputs": [],
   "source": [
    "categories=list(data.columns)\n",
    "N = len(categories)\n",
    "values=data[categories].values[0]\n",
    "values=np.append(values,values[:1])\n",
    "angles = [n / float(N) * 2 * pi for n in range(N)]\n",
    "angles += angles[:1]\n",
    "\n",
    "Ro5_up=[1,1,1,1,1,1,1]\n",
    "Ro5_low=[0.5,0,0,0,0,0,0.5]"
   ]
  },
  {
   "cell_type": "code",
   "execution_count": null,
   "metadata": {},
   "outputs": [],
   "source": [
    "fig=plt.figure(figsize=(8,8))\n",
    "\n",
    "ax = fig.add_axes([1, 1, 1, 1],projection='polar')\n",
    "\n",
    "plt.title('Ugi',size=26,weight='bold')\n",
    "\n",
    "plt.xticks(angles, [i.split('_')[0] for i in categories],color='k',size=24,ha='center',va='top',fontweight='bold')\n",
    "\n",
    "plt.tick_params(axis='y',width=2,labelsize=18, grid_alpha=0.15)\n",
    "\n",
    "ax.set_rlabel_position(0)\n",
    "\n",
    "ax.plot(angles, Ro5_up, linewidth=2, linestyle='solid',color='red')\n",
    "ax.plot(angles, Ro5_low, linewidth=2, linestyle='solid',color='red')\n",
    "\n",
    "#ax.fill(angles, Ro5_up, 'red', alpha=0.2)\n",
    "#ax.fill(angles, Ro5_low, 'red', alpha=0.2)\n",
    "\n",
    "\n",
    "\n",
    "for i in range(len(data.index)):\n",
    "    values=data[categories].values[i]\n",
    "    values=np.append(values,values[:1])\n",
    "    ax.plot(angles, values, linewidth=0.5 ,color='k', linestyle='-',alpha=0.05)\n",
    "    #ax.fill(angles, values, 'C2', alpha=0.025)\n",
    "\n",
    "plt.ylim(-2,3)\n",
    "fig.savefig('Ugi_radar.png',dpi=300,quality=95,format='png',bbox_inches='tight')\n",
    "plt.show()"
   ]
  },
  {
   "cell_type": "code",
   "execution_count": null,
   "metadata": {},
   "outputs": [],
   "source": []
  }
 ],
 "metadata": {
  "kernelspec": {
   "display_name": "Chem_3",
   "language": "python",
   "name": "chem_3"
  },
  "language_info": {
   "codemirror_mode": {
    "name": "ipython",
    "version": 3
   },
   "file_extension": ".py",
   "mimetype": "text/x-python",
   "name": "python",
   "nbconvert_exporter": "python",
   "pygments_lexer": "ipython3",
   "version": "3.7.7"
  }
 },
 "nbformat": 4,
 "nbformat_minor": 4
}
